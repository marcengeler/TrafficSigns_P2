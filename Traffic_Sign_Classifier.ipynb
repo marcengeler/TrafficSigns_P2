{
 "cells": [
  {
   "cell_type": "markdown",
   "metadata": {},
   "source": [
    "# Self-Driving Car Engineer Nanodegree\n",
    "\n",
    "## Deep Learning\n",
    "\n",
    "## Project: Build a Traffic Sign Recognition Classifier\n",
    "\n",
    "In this notebook, a template is provided for you to implement your functionality in stages, which is required to successfully complete this project. If additional code is required that cannot be included in the notebook, be sure that the Python code is successfully imported and included in your submission if necessary. \n",
    "\n",
    "> **Note**: Once you have completed all of the code implementations, you need to finalize your work by exporting the iPython Notebook as an HTML document. Before exporting the notebook to html, all of the code cells need to have been run so that reviewers can see the final implementation and output. You can then export the notebook by using the menu above and navigating to  \\n\",\n",
    "    \"**File -> Download as -> HTML (.html)**. Include the finished document along with this notebook as your submission. \n",
    "\n",
    "In addition to implementing code, there is a writeup to complete. The writeup should be completed in a separate file, which can be either a markdown file or a pdf document. There is a [write up template](https://github.com/udacity/CarND-Traffic-Sign-Classifier-Project/blob/master/writeup_template.md) that can be used to guide the writing process. Completing the code template and writeup template will cover all of the [rubric points](https://review.udacity.com/#!/rubrics/481/view) for this project.\n",
    "\n",
    "The [rubric](https://review.udacity.com/#!/rubrics/481/view) contains \"Stand Out Suggestions\" for enhancing the project beyond the minimum requirements. The stand out suggestions are optional. If you decide to pursue the \"stand out suggestions\", you can include the code in this Ipython notebook and also discuss the results in the writeup file.\n",
    "\n",
    "\n",
    ">**Note:** Code and Markdown cells can be executed using the **Shift + Enter** keyboard shortcut. In addition, Markdown cells can be edited by typically double-clicking the cell to enter edit mode."
   ]
  },
  {
   "cell_type": "markdown",
   "metadata": {},
   "source": [
    "---\n",
    "## Step 0: Load The Data"
   ]
  },
  {
   "cell_type": "code",
   "execution_count": 1,
   "metadata": {},
   "outputs": [],
   "source": [
    "# Load pickled data\n",
    "import pickle\n",
    "from sklearn.utils import shuffle\n",
    "### Data exploration visualization code goes here.\n",
    "### Feel free to use as many code cells as needed.\n",
    "import matplotlib.pyplot as plt\n",
    "# Visualizations will be shown in the notebook.\n",
    "%matplotlib inline\n",
    "\n",
    "# TODO: Fill this in based on where you saved the training and testing data\n",
    "# Linux Folder\n",
    "# folder = '/user_storage/meng/drivingCar/TrafficSignDataSet'\n",
    "# Home Windows Folder\n",
    "folder = 'C:/Users/Marc Engeler/PycharmProjects'\n",
    "training_file = folder + '/train.p'\n",
    "validation_file= folder + '/valid.p'\n",
    "testing_file =  folder + '/test.p'\n",
    "\n",
    "with open(training_file, mode='rb') as f:\n",
    "    train = pickle.load(f)\n",
    "with open(validation_file, mode='rb') as f:\n",
    "    valid = pickle.load(f)\n",
    "with open(testing_file, mode='rb') as f:\n",
    "    test = pickle.load(f)\n",
    "    \n",
    "X_train_rgb, y_train = train['features'], train['labels']\n",
    "X_valid_rgb, y_valid = valid['features'], valid['labels']\n",
    "X_test_rgb, y_test = test['features'], test['labels']"
   ]
  },
  {
   "cell_type": "markdown",
   "metadata": {},
   "source": [
    "---\n",
    "\n",
    "## Step 1: Dataset Summary & Exploration\n",
    "\n",
    "The pickled data is a dictionary with 4 key/value pairs:\n",
    "\n",
    "- `'features'` is a 4D array containing raw pixel data of the traffic sign images, (num examples, width, height, channels).\n",
    "- `'labels'` is a 1D array containing the label/class id of the traffic sign. The file `signnames.csv` contains id -> name mappings for each id.\n",
    "- `'sizes'` is a list containing tuples, (width, height) representing the original width and height the image.\n",
    "- `'coords'` is a list containing tuples, (x1, y1, x2, y2) representing coordinates of a bounding box around the sign in the image. **THESE COORDINATES ASSUME THE ORIGINAL IMAGE. THE PICKLED DATA CONTAINS RESIZED VERSIONS (32 by 32) OF THESE IMAGES**\n",
    "\n",
    "Complete the basic data summary below. Use python, numpy and/or pandas methods to calculate the data summary rather than hard coding the results. For example, the [pandas shape method](http://pandas.pydata.org/pandas-docs/stable/generated/pandas.DataFrame.shape.html) might be useful for calculating some of the summary results. "
   ]
  },
  {
   "cell_type": "markdown",
   "metadata": {},
   "source": [
    "### Provide a Basic Summary of the Data Set Using Python, Numpy and/or Pandas"
   ]
  },
  {
   "cell_type": "code",
   "execution_count": 2,
   "metadata": {},
   "outputs": [
    {
     "name": "stdout",
     "output_type": "stream",
     "text": [
      "Number of training examples = 34799\n",
      "Number of testing examples = 12630\n",
      "Image data shape = (32, 32)\n",
      "Number of classes = 43\n"
     ]
    }
   ],
   "source": [
    "### Replace each question mark with the appropriate value. \n",
    "### Use python, pandas or numpy methods rather than hard coding the results\n",
    "import numpy as np\n",
    "# TODO: Number of training examples\n",
    "n_train = X_train_rgb.shape[0]\n",
    "\n",
    "# TODO: Number of validation examples\n",
    "n_validation = X_valid_rgb.shape[0]\n",
    "\n",
    "# TODO: Number of testing examples.\n",
    "n_test = X_test_rgb.shape[0]\n",
    "\n",
    "# TODO: What's the shape of an traffic sign image?\n",
    "image_shape = (X_train_rgb.shape[1], X_train_rgb.shape[2])\n",
    "\n",
    "# TODO: How many unique classes/labels there are in the dataset.\n",
    "n_classes = np.unique(y_train).size\n",
    "\n",
    "print(\"Number of training examples =\", n_train)\n",
    "print(\"Number of testing examples =\", n_test)\n",
    "print(\"Image data shape =\", image_shape)\n",
    "print(\"Number of classes =\", n_classes)"
   ]
  },
  {
   "cell_type": "markdown",
   "metadata": {},
   "source": [
    "### Include an exploratory visualization of the dataset"
   ]
  },
  {
   "cell_type": "markdown",
   "metadata": {},
   "source": [
    "Visualize the German Traffic Signs Dataset using the pickled file(s). This is open ended, suggestions include: plotting traffic sign images, plotting the count of each sign, etc. \n",
    "\n",
    "The [Matplotlib](http://matplotlib.org/) [examples](http://matplotlib.org/examples/index.html) and [gallery](http://matplotlib.org/gallery.html) pages are a great resource for doing visualizations in Python.\n",
    "\n",
    "**NOTE:** It's recommended you start with something simple first. If you wish to do more, come back to it after you've completed the rest of the sections. It can be interesting to look at the distribution of classes in the training, validation and test set. Is the distribution the same? Are there more examples of some classes than others?"
   ]
  },
  {
   "cell_type": "code",
   "execution_count": 3,
   "metadata": {},
   "outputs": [],
   "source": [
    "# Convert to Grayscale\n",
    "X_train = np.sum(X_train_rgb/3, axis=3, keepdims = True)\n",
    "X_test = np.sum(X_test_rgb/3, axis=3, keepdims = True)\n",
    "X_valid = np.sum(X_valid_rgb/3, axis=3, keepdims = True)"
   ]
  },
  {
   "cell_type": "code",
   "execution_count": 4,
   "metadata": {},
   "outputs": [
    {
     "data": {
      "image/png": "[encoded data removed]",
      "text/plain": [
       "<matplotlib.figure.Figure at 0x9c8b88c208>"
      ]
     },
     "metadata": {},
     "output_type": "display_data"
    },
    {
     "data": {
      "image/png": "[encoded data removed]",
      "text/plain": [
       "<matplotlib.figure.Figure at 0x9c83506278>"
      ]
     },
     "metadata": {},
     "output_type": "display_data"
    }
   ],
   "source": [
    "# Translation of Images\n",
    "import cv2\n",
    "\n",
    "def translate(img):\n",
    "    h,w,_ = img.shape\n",
    "    \n",
    "    translate_max = 3\n",
    "    dx,dy = np.random.randint(-translate_max, translate_max, 2)\n",
    "    \n",
    "    G = np.float32([[1,0,dx],[0,1,dy]])\n",
    "    warped = cv2.warpAffine(img, G, (w,h), borderMode = 1)\n",
    "    return warped[:,:,np.newaxis]\n",
    "\n",
    "test_img = X_train[10000]\n",
    "test_trans = translate(test_img)\n",
    "plt.imshow(test_img.squeeze(), cmap='gray')\n",
    "plt.show()\n",
    "plt.imshow(test_trans.squeeze(), cmap='gray')\n",
    "plt.show()"
   ]
  },
  {
   "cell_type": "code",
   "execution_count": 5,
   "metadata": {},
   "outputs": [
    {
     "data": {
      "image/png": "[encoded data removed]",
      "text/plain": [
       "<matplotlib.figure.Figure at 0x9ca44cda20>"
      ]
     },
     "metadata": {},
     "output_type": "display_data"
    },
    {
     "data": {
      "image/png": "[encoded data removed]",
      "text/plain": [
       "<matplotlib.figure.Figure at 0x9ca45b4eb8>"
      ]
     },
     "metadata": {},
     "output_type": "display_data"
    }
   ],
   "source": [
    "def scaling(img):\n",
    "    h,w,_ = img.shape\n",
    "    \n",
    "    scale_max = 5\n",
    "    ds = np.random.randint(-scale_max, scale_max)\n",
    "    G = np.float32([[ds,ds],[h-ds,ds],[ds,w-ds],[h-ds,w-ds]])\n",
    "    G0 = np.float32([[0,0],[h,0],[0,w],[h,w]])\n",
    "    M = cv2.getPerspectiveTransform(G, G0)\n",
    "    \n",
    "    warped = cv2.warpPerspective(img, M, (w,h), borderMode = 1)\n",
    "    return warped[:,:,np.newaxis]\n",
    "\n",
    "test_img = X_train[20000]\n",
    "test_trans = scaling(test_img)\n",
    "plt.imshow(test_img.squeeze(), cmap='gray')\n",
    "plt.show()\n",
    "plt.imshow(test_trans.squeeze(), cmap='gray')\n",
    "plt.show()"
   ]
  },
  {
   "cell_type": "code",
   "execution_count": 6,
   "metadata": {},
   "outputs": [
    {
     "data": {
      "image/png": "[encoded data removed]",
      "text/plain": [
       "<matplotlib.figure.Figure at 0x9c89090d68>"
      ]
     },
     "metadata": {},
     "output_type": "display_data"
    },
    {
     "data": {
      "image/png": "[encoded data removed]",
      "text/plain": [
       "<matplotlib.figure.Figure at 0x9ca452e630>"
      ]
     },
     "metadata": {},
     "output_type": "display_data"
    }
   ],
   "source": [
    "def brightness_adjust(img):\n",
    "    max_adjust = 80\n",
    "    coef = np.random.uniform(-max_adjust, max_adjust)\n",
    "    output_img = img + coef\n",
    "    output_img[(output_img>255)] = 255\n",
    "    output_img[(output_img<0)] = 0\n",
    "    return output_img\n",
    "    \n",
    "test_img = X_train[20000]\n",
    "test_trans = brightness_adjust(test_img)\n",
    "plt.imshow(test_img.squeeze(), cmap='gray')\n",
    "plt.show()\n",
    "plt.imshow(test_trans.squeeze(), cmap='gray')\n",
    "plt.show()"
   ]
  },
  {
   "cell_type": "code",
   "execution_count": 7,
   "metadata": {},
   "outputs": [
    {
     "data": {
      "image/png": "[encoded data removed]",
      "text/plain": [
       "<matplotlib.figure.Figure at 0x9ca464a710>"
      ]
     },
     "metadata": {},
     "output_type": "display_data"
    },
    {
     "data": {
      "image/png": "[encoded data removed]",
      "text/plain": [
       "<matplotlib.figure.Figure at 0x9ca452a7f0>"
      ]
     },
     "metadata": {},
     "output_type": "display_data"
    }
   ],
   "source": [
    "def image_skew(img):\n",
    "    h,w,_ = img.shape\n",
    "\n",
    "    # random scaling coefficients\n",
    "    skew_x = np.random.rand(3) * w * 0.09\n",
    "    skew_y = np.random.rand(3) * h * 0.09\n",
    "\n",
    "    # 3 starting points for transform\n",
    "    p1 = (w/5, h/5)\n",
    "    p2 = (4*w/5, 4*h/5)\n",
    "\n",
    "    p_orig = np.float32([[p1[1],p1[0]],\n",
    "                       [p2[1],p1[0]],\n",
    "                       [p1[1],p2[0]]])\n",
    "    p_skew = np.float32([[p1[1]+skew_y[0],p1[0]+skew_x[0]],\n",
    "                       [p2[1]+skew_y[1],p1[0]+skew_x[1]],\n",
    "                       [p1[1]+skew_y[2],p2[0]+skew_x[2]]])\n",
    "\n",
    "    G = cv2.getAffineTransform(p_orig,p_skew)\n",
    "    dst = cv2.warpAffine(img,G,(w,h), borderMode = 1)    \n",
    "    return dst[:,:,np.newaxis]\n",
    "\n",
    "test_img = X_train[20000]\n",
    "test_trans = image_skew(test_img)\n",
    "plt.imshow(test_img.squeeze(), cmap='gray')\n",
    "plt.show()\n",
    "plt.imshow(test_trans.squeeze(), cmap='gray')\n",
    "plt.show()"
   ]
  },
  {
   "cell_type": "code",
   "execution_count": 8,
   "metadata": {},
   "outputs": [
    {
     "data": {
      "image/png": "[encoded data removed]",
      "text/plain": [
       "<matplotlib.figure.Figure at 0x9ca46ae400>"
      ]
     },
     "metadata": {},
     "output_type": "display_data"
    }
   ],
   "source": [
    "def apply_transformations(X_train, y_train, count, method):\n",
    "    X_train_new = np.zeros_like(X_train)\n",
    "    y_train_new = np.zeros_like(y_train)\n",
    "    counter = 0\n",
    "    for i in range(0,X_train.shape[0]):\n",
    "        if count[y_train[i]] < 800:\n",
    "            counter = counter + 1\n",
    "            if method=='translate':\n",
    "                newimg = translate(X_train[i])\n",
    "            if method=='scaling':\n",
    "                newimg = scaling(X_train[i])\n",
    "            if method=='brightness':\n",
    "                newimg = brightness_adjust(X_train[i])\n",
    "            if method=='skew':\n",
    "                newimg = image_skew(X_train[i])\n",
    "            if method=='all':\n",
    "                newimg = image_skew(translate(scaling(brightness_adjust(X_train[i]))))\n",
    "            X_train_new[counter] = np.asarray(newimg)\n",
    "            y_train_new[counter] = y_train[i]\n",
    "    return X_train_new[0:counter], y_train_new[0:counter]\n",
    "\n",
    "X_train_new = X_train\n",
    "y_train_new = y_train\n",
    "count = np.bincount(y_train)\n",
    "\n",
    "fig, ax = plt.subplots()\n",
    "ax.bar(np.unique(y_train), count)\n",
    "plt.show()\n",
    "\n",
    "X_train_trans, y_train_trans = apply_transformations(X_train_new, y_train_new, count, 'all')\n",
    "X_train_new = np.concatenate((X_train, X_train_trans), axis=0)\n",
    "y_train_new = np.concatenate((y_train, y_train_trans), axis=0)\n",
    "\n",
    "X_train_trans, y_train_trans = apply_transformations(X_train, y_train, count, 'all')\n",
    "X_train_new = np.concatenate((X_train_new, X_train_trans), axis=0)\n",
    "y_train_new = np.concatenate((y_train_new, y_train_trans), axis=0)\n",
    "\n",
    "X_train_scale, y_train_scale = apply_transformations(X_train, y_train, count, 'all')\n",
    "X_train_new = np.concatenate((X_train_new, X_train_scale), axis=0)\n",
    "y_train_new = np.concatenate((y_train_new, y_train_scale), axis=0)\n",
    "\n",
    "X_train_scale, y_train_scale = apply_transformations(X_train, y_train, count, 'all')\n",
    "X_train_new = np.concatenate((X_train_new, X_train_scale), axis=0)\n",
    "y_train_new = np.concatenate((y_train_new, y_train_scale), axis=0)\n",
    "\n",
    "X_train_new = np.sum(X_train_new/3, axis=3, keepdims = True)"
   ]
  },
  {
   "cell_type": "code",
   "execution_count": 9,
   "metadata": {
    "scrolled": false
   },
   "outputs": [
    {
     "name": "stdout",
     "output_type": "stream",
     "text": [
      "Show Balancing Issues\n"
     ]
    },
    {
     "data": {
      "image/png": "[encoded data removed]",
      "text/plain": [
       "<matplotlib.figure.Figure at 0x9ca465d438>"
      ]
     },
     "metadata": {},
     "output_type": "display_data"
    },
    {
     "name": "stdout",
     "output_type": "stream",
     "text": [
      "After Balancing\n"
     ]
    },
    {
     "data": {
      "image/png": "[encoded data removed]",
      "text/plain": [
       "<matplotlib.figure.Figure at 0x9ca45dd438>"
      ]
     },
     "metadata": {},
     "output_type": "display_data"
    },
    {
     "name": "stdout",
     "output_type": "stream",
     "text": [
      "Number of training examples = 69437\n"
     ]
    },
    {
     "data": {
      "image/png": "[encoded data removed]",
      "text/plain": [
       "<matplotlib.figure.Figure at 0x9ca46f8ac8>"
      ]
     },
     "metadata": {},
     "output_type": "display_data"
    }
   ],
   "source": [
    "count = np.bincount(y_train)\n",
    "fig, ax = plt.subplots()\n",
    "print('Show Balancing Issues')\n",
    "ax.bar(np.unique(y_train), count)\n",
    "plt.show()\n",
    "\n",
    "balance_num = min(np.bincount(y_train_new))\n",
    "X_train_balanced = None\n",
    "y_train_balanced = None\n",
    "for label in np.unique(y_train_new):\n",
    "    indices = [i for (i,j) in enumerate(y_train_new) if j==label]\n",
    "    end_index = np.min((indices.__len__(), 3*balance_num))\n",
    "\n",
    "    indices_short = indices[0:end_index-1]\n",
    "    if X_train_balanced is None:\n",
    "        X_train_balanced = X_train_new[indices_short, :, :, :]\n",
    "        y_train_balanced = np.ones(indices_short.__len__()) * label\n",
    "    else:\n",
    "        X_train_balanced = np.concatenate((X_train_balanced,X_train_new[indices_short, :, :, :]), axis=0)\n",
    "        y_train_balanced = np.concatenate((y_train_balanced,np.ones(indices_short.__len__()) * label))\n",
    "\n",
    "y_train_balanced = np.asarray(y_train_balanced, dtype=np.int32)\n",
    "count = np.bincount(y_train_balanced)\n",
    "fig, ax = plt.subplots()\n",
    "print('After Balancing')\n",
    "ax.bar(np.unique(y_train_balanced), count)\n",
    "plt.show()\n",
    "\n",
    "fig, ax = plt.subplots(1,5)\n",
    "for i in range(1000,1005):\n",
    "    img = X_train_balanced[i]\n",
    "    ax[i-1000].imshow(img.squeeze(), cmap='gray')\n",
    "\n",
    "X_train_balanced, y_train_balanced = shuffle(X_train_balanced, y_train_balanced)\n",
    "print(\"Number of training examples =\",  X_train_balanced.shape[0])\n",
    "\n"
   ]
  },
  {
   "cell_type": "markdown",
   "metadata": {},
   "source": [
    "----\n",
    "\n",
    "## Step 2: Design and Test a Model Architecture\n",
    "\n",
    "Design and implement a deep learning model that learns to recognize traffic signs. Train and test your model on the [German Traffic Sign Dataset](http://benchmark.ini.rub.de/?section=gtsrb&subsection=dataset).\n",
    "\n",
    "The LeNet-5 implementation shown in the [classroom](https://classroom.udacity.com/nanodegrees/nd013/parts/fbf77062-5703-404e-b60c-95b78b2f3f9e/modules/6df7ae49-c61c-4bb2-a23e-6527e69209ec/lessons/601ae704-1035-4287-8b11-e2c2716217ad/concepts/d4aca031-508f-4e0b-b493-e7b706120f81) at the end of the CNN lesson is a solid starting point. You'll have to change the number of classes and possibly the preprocessing, but aside from that it's plug and play! \n",
    "\n",
    "With the LeNet-5 solution from the lecture, you should expect a validation set accuracy of about 0.89. To meet specifications, the validation set accuracy will need to be at least 0.93. It is possible to get an even higher accuracy, but 0.93 is the minimum for a successful project submission. \n",
    "\n",
    "There are various aspects to consider when thinking about this problem:\n",
    "\n",
    "- Neural network architecture (is the network over or underfitting?)\n",
    "- Play around preprocessing techniques (normalization, rgb to grayscale, etc)\n",
    "- Number of examples per label (some have more than others).\n",
    "- Generate fake data.\n",
    "\n",
    "Here is an example of a [published baseline model on this problem](http://yann.lecun.com/exdb/publis/pdf/sermanet-ijcnn-11.pdf). It's not required to be familiar with the approach used in the paper but, it's good practice to try to read papers like these."
   ]
  },
  {
   "cell_type": "markdown",
   "metadata": {},
   "source": [
    "### Pre-process the Data Set (normalization, grayscale, etc.)"
   ]
  },
  {
   "cell_type": "markdown",
   "metadata": {},
   "source": [
    "Minimally, the image data should be normalized so that the data has mean zero and equal variance. For image data, `(pixel - 128)/ 128` is a quick way to approximately normalize the data and can be used in this project. \n",
    "\n",
    "Other pre-processing steps are optional. You can try different techniques to see if it improves performance. \n",
    "\n",
    "Use the code cell (or multiple code cells, if necessary) to implement the first step of your project."
   ]
  },
  {
   "cell_type": "code",
   "execution_count": null,
   "metadata": {},
   "outputs": [],
   "source": [
    "## Normalize the input data\n",
    "X_train_norm = (X_train-128)/128\n",
    "X_test_norm = (X_test-128)/128\n",
    "X_valid_norm = (X_valid-128)/128\n",
    "X_train_balanced_norm = (X_train_balanced-128)/128"
   ]
  },
  {
   "cell_type": "markdown",
   "metadata": {},
   "source": [
    "### Model Architecture"
   ]
  },
  {
   "cell_type": "code",
   "execution_count": null,
   "metadata": {},
   "outputs": [],
   "source": [
    "import tensorflow as tf\n",
    "from tensorflow.contrib.layers import flatten\n",
    "\n",
    "def LeNet(x):\n",
    "    #Hyperparameters\n",
    "    mu = 0\n",
    "    sigma = 0.1\n",
    "    \n",
    "    # Layer 1 Convolutional\n",
    "    conv1_W = tf.Variable(tf.truncated_normal(shape=(5,5,1,6), mean=mu, stddev = sigma))\n",
    "    conv1_b = tf.Variable(tf.zeros(6))\n",
    "    conv1   = tf.nn.conv2d(x, conv1_W, strides=[1, 1, 1, 1], padding='VALID') + conv1_b\n",
    "    \n",
    "    # Activation\n",
    "    conv1 = tf.nn.relu(conv1)\n",
    "    \n",
    "    # Pooling\n",
    "    conv1 = tf.nn.max_pool(conv1, ksize=[1,2,2,1], strides=[1,2,2,1], padding='VALID')\n",
    "    \n",
    "    # Layer 2 Convolutional\n",
    "    conv2_W = tf.Variable(tf.truncated_normal(shape=(5,5,6,16), mean=mu, stddev = sigma))\n",
    "    conv2_b = tf.Variable(tf.zeros(16))\n",
    "    conv2 = tf.nn.conv2d(conv1, conv2_W, strides=[1,1,1,1], padding='VALID') + conv2_b\n",
    "    \n",
    "    # Activation\n",
    "    conv2 = tf.nn.relu(conv2)\n",
    "    \n",
    "    # Pooling\n",
    "    conv2 = tf.nn.max_pool(conv2, ksize=[1,2,2,1], strides=[1,2,2,1], padding='VALID')\n",
    "    \n",
    "    # Layer 3 Convolutional\n",
    "    conv3_W = tf.Variable(tf.truncated_normal(shape=(5,5,16,400), mean=mu, stddev = sigma))\n",
    "    conv3_b = tf.Variable(tf.zeros(400))\n",
    "    conv3 = tf.nn.conv2d(conv2, conv3_W, strides=[1,1,1,1], padding='VALID') + conv3_b\n",
    "    \n",
    "    # Activation\n",
    "    conv3 = tf.nn.relu(conv3)\n",
    "    \n",
    "    # Flatten\n",
    "    conv3_flat = flatten(conv3)\n",
    "    conv2_flat = flatten(conv2)\n",
    "    fc0 = tf.concat([conv2_flat, conv3_flat], 1)\n",
    "    \n",
    "    # Dropout\n",
    "    fc0d = tf.nn.dropout(fc0, keep_prob = 0.5)\n",
    "    \n",
    "    # Layer 3 Fully Connected\n",
    "    fc1_W = tf.Variable(tf.truncated_normal(shape=(800,43), mean=mu, stddev=sigma))\n",
    "    fc1_b = tf.Variable(tf.zeros(43))\n",
    "    fc1d = tf.matmul(fc0d, fc1_W) + fc1_b\n",
    "    fc1 = tf.matmul(fc0, fc1_W) + fc1_b\n",
    "    \n",
    "    \n",
    "    return fc1d, fc1"
   ]
  },
  {
   "cell_type": "code",
   "execution_count": null,
   "metadata": {},
   "outputs": [],
   "source": [
    "x = tf.placeholder(tf.float32, (None, 32, 32, 1))\n",
    "y = tf.placeholder(tf.int32, (None))\n",
    "one_hot_y = tf.one_hot(y, 43)"
   ]
  },
  {
   "cell_type": "markdown",
   "metadata": {},
   "source": [
    "### Train, Validate and Test the Model"
   ]
  },
  {
   "cell_type": "markdown",
   "metadata": {},
   "source": [
    "A validation set can be used to assess how well the model is performing. A low accuracy on the training and validation\n",
    "sets imply underfitting. A high accuracy on the training set but low accuracy on the validation set implies overfitting."
   ]
  },
  {
   "cell_type": "code",
   "execution_count": null,
   "metadata": {},
   "outputs": [],
   "source": [
    "EPOCHS = 200\n",
    "BATCH_SIZE = 512\n",
    "rate = 0.01\n",
    "\n",
    "logits, output = LeNet(x)\n",
    "global_step = tf.Variable(0, trainable=False)\n",
    "learning_rate = tf.train.exponential_decay(rate, global_step,\n",
    "                                           10, 0.96, staircase=False)\n",
    "cross_entropy = tf.nn.softmax_cross_entropy_with_logits(logits=logits, labels=one_hot_y)\n",
    "loss_operation = tf.reduce_mean(cross_entropy)\n",
    "optimizer = tf.train.AdamOptimizer(learning_rate = learning_rate)\n",
    "training_operation = optimizer.minimize(loss_operation)"
   ]
  },
  {
   "cell_type": "code",
   "execution_count": null,
   "metadata": {},
   "outputs": [],
   "source": [
    "correct_prediction = tf.equal(tf.argmax(output, 1), tf.argmax(one_hot_y, 1))\n",
    "accuracy_operation = tf.reduce_mean(tf.cast(correct_prediction, tf.float32))\n",
    "saver = tf.train.Saver()\n",
    "\n",
    "def evaluate(X_data, y_data):\n",
    "    num_examples = len(X_data)\n",
    "    total_accuracy = 0\n",
    "    sess = tf.get_default_session()\n",
    "    for offset in range(0, num_examples, BATCH_SIZE):\n",
    "        batch_x, batch_y = X_data[offset:offset+BATCH_SIZE], y_data[offset:offset+BATCH_SIZE]\n",
    "        accuracy = sess.run(accuracy_operation, feed_dict={x: batch_x, y: batch_y})\n",
    "        total_accuracy += (accuracy * len(batch_x))\n",
    "    return total_accuracy / num_examples"
   ]
  },
  {
   "cell_type": "code",
   "execution_count": null,
   "metadata": {
    "scrolled": true
   },
   "outputs": [],
   "source": [
    "training_accuracy_arr = []\n",
    "validation_accuracy_arr = []\n",
    "\n",
    "with tf.Session() as sess:\n",
    "    sess.run(tf.global_variables_initializer())\n",
    "    num_examples = len(X_train_balanced)\n",
    "    \n",
    "    print(\"Training...\")\n",
    "    print()\n",
    "    for i in range(EPOCHS):\n",
    "        X_train_balanced_norm, y_train_balanced = shuffle(X_train_balanced_norm, y_train_balanced)\n",
    "        for offset in range(0, num_examples, BATCH_SIZE):\n",
    "            end = offset + BATCH_SIZE\n",
    "            batch_x, batch_y = X_train_balanced_norm[offset:end], y_train_balanced[offset:end]\n",
    "            sess.run(training_operation, feed_dict={x: batch_x, y: batch_y})\n",
    "        \n",
    "        if i%5==0:\n",
    "            validation_accuracy = evaluate(X_valid_norm, y_valid)\n",
    "            training_accuracy = evaluate(X_train_balanced_norm, y_train_balanced)\n",
    "            training_accuracy_arr.append(training_accuracy)\n",
    "            validation_accuracy_arr.append(validation_accuracy)\n",
    "        if i%10==0:\n",
    "            print('{0} {1}'.format(validation_accuracy, training_accuracy))\n",
    "        \n",
    "    saver.save(sess, 'C:/Users/Marc Engeler/PycharmProjects/TrafficSigns_P2/lenet', global_step=global_step)\n",
    "    print(\"Model saved\")\n"
   ]
  },
  {
   "cell_type": "code",
   "execution_count": null,
   "metadata": {},
   "outputs": [],
   "source": [
    "plt.plot(training_accuracy_arr)\n",
    "plt.plot(validation_accuracy_arr)\n",
    "plt.legend(['Training Accuracy', 'Validation Accuracy'])"
   ]
  },
  {
   "cell_type": "code",
   "execution_count": null,
   "metadata": {},
   "outputs": [],
   "source": [
    "with tf.Session() as sess:\n",
    "    sess.run(tf.global_variables_initializer())\n",
    "    saver2 = tf.train.import_meta_graph('C:/Users/Marc Engeler/PycharmProjects/TrafficSigns_P2/lenet-0.meta')\n",
    "    saver2.restore(sess, 'C:/Users/Marc Engeler/PycharmProjects/TrafficSigns_P2/lenet-0')\n",
    "    print('Start Testing')\n",
    "    test_accuracy = evaluate(X_test_norm, y_test)\n",
    "    print(\"Test Set Accuracy = {:.3f}\".format(test_accuracy))"
   ]
  },
  {
   "cell_type": "markdown",
   "metadata": {},
   "source": [
    "---\n",
    "\n",
    "## Step 3: Test a Model on New Images\n",
    "\n",
    "To give yourself more insight into how your model is working, download at least five pictures of German traffic signs from the web and use your model to predict the traffic sign type.\n",
    "\n",
    "You may find `signnames.csv` useful as it contains mappings from the class id (integer) to the actual sign name."
   ]
  },
  {
   "cell_type": "markdown",
   "metadata": {},
   "source": [
    "### Load and Output the Images"
   ]
  },
  {
   "cell_type": "code",
   "execution_count": null,
   "metadata": {
    "scrolled": false
   },
   "outputs": [],
   "source": [
    "from os import walk\n",
    "\n",
    "mypath='./testset'\n",
    "images = []\n",
    "for (dirpath, dirnames, filenames) in walk(mypath):\n",
    "    for filename in filenames:\n",
    "        img = cv2.imread(mypath + '/' + filename)\n",
    "        img = cv2.resize(img, (32,32))\n",
    "        img = np.sum(img/3, axis=2)\n",
    "        img = (img-128)/128\n",
    "        images.append(img)\n",
    "\n",
    "for image in images:\n",
    "    plt.imshow(image, cmap='gray')\n",
    "    plt.show()"
   ]
  },
  {
   "cell_type": "markdown",
   "metadata": {},
   "source": [
    "### Predict the Sign Type for Each Image"
   ]
  },
  {
   "cell_type": "code",
   "execution_count": null,
   "metadata": {},
   "outputs": [],
   "source": [
    "mylabels = [14, 36, 4, 3, 15\n",
    "images = np.asarray(images)\n",
    "images = images.reshape((5,32,32,1))\n",
    "\n",
    "with tf.Session() as sess:\n",
    "    sess.run(tf.global_variables_initializer())\n",
    "    saver3 = tf.train.import_meta_graph('C:/Users/Marc Engeler/PycharmProjects/TrafficSigns_P2/lenet-0.meta')\n",
    "    saver3.restore(sess, 'C:/Users/Marc Engeler/PycharmProjects/TrafficSigns_P2/lenet-0')\n",
    "    my_accuracy = evaluate(images, mylabels)\n",
    "    print(\"Own Test Set Accuracy = {:.3f}\".format(my_accuracy))"
   ]
  },
  {
   "cell_type": "markdown",
   "metadata": {},
   "source": [
    "### Analyze Performance"
   ]
  },
  {
   "cell_type": "markdown",
   "metadata": {},
   "source": [
    "### Output Top 5 Softmax Probabilities For Each Image Found on the Web"
   ]
  },
  {
   "cell_type": "markdown",
   "metadata": {},
   "source": [
    "For each of the new images, print out the model's softmax probabilities to show the **certainty** of the model's predictions (limit the output to the top 5 probabilities for each image). [`tf.nn.top_k`](https://www.tensorflow.org/versions/r0.12/api_docs/python/nn.html#top_k) could prove helpful here. \n",
    "\n",
    "The example below demonstrates how tf.nn.top_k can be used to find the top k predictions for each image.\n",
    "\n",
    "`tf.nn.top_k` will return the values and indices (class ids) of the top k predictions. So if k=3, for each sign, it'll return the 3 largest probabilities (out of a possible 43) and the correspoding class ids.\n",
    "\n",
    "Take this numpy array as an example. The values in the array represent predictions. The array contains softmax probabilities for five candidate images with six possible classes. `tf.nn.top_k` is used to choose the three classes with the highest probability:\n",
    "\n",
    "```\n",
    "# (5, 6) array\n",
    "a = np.array([[ 0.24879643,  0.07032244,  0.12641572,  0.34763842,  0.07893497,\n",
    "         0.12789202],\n",
    "       [ 0.28086119,  0.27569815,  0.08594638,  0.0178669 ,  0.18063401,\n",
    "         0.15899337],\n",
    "       [ 0.26076848,  0.23664738,  0.08020603,  0.07001922,  0.1134371 ,\n",
    "         0.23892179],\n",
    "       [ 0.11943333,  0.29198961,  0.02605103,  0.26234032,  0.1351348 ,\n",
    "         0.16505091],\n",
    "       [ 0.09561176,  0.34396535,  0.0643941 ,  0.16240774,  0.24206137,\n",
    "         0.09155967]])\n",
    "```\n",
    "\n",
    "Running it through `sess.run(tf.nn.top_k(tf.constant(a), k=3))` produces:\n",
    "\n",
    "```\n",
    "TopKV2(values=array([[ 0.34763842,  0.24879643,  0.12789202],\n",
    "       [ 0.28086119,  0.27569815,  0.18063401],\n",
    "       [ 0.26076848,  0.23892179,  0.23664738],\n",
    "       [ 0.29198961,  0.26234032,  0.16505091],\n",
    "       [ 0.34396535,  0.24206137,  0.16240774]]), indices=array([[3, 0, 5],\n",
    "       [0, 1, 4],\n",
    "       [0, 5, 1],\n",
    "       [1, 3, 5],\n",
    "       [1, 4, 3]], dtype=int32))\n",
    "```\n",
    "\n",
    "Looking just at the first row we get `[ 0.34763842,  0.24879643,  0.12789202]`, you can confirm these are the 3 largest probabilities in `a`. You'll also notice `[3, 0, 5]` are the corresponding indices."
   ]
  },
  {
   "cell_type": "code",
   "execution_count": null,
   "metadata": {},
   "outputs": [],
   "source": [
    "softmax_logits = tf.nn.softmax(output)\n",
    "top_k = tf.nn.top_k(softmax_logits, k=3)\n",
    "\n",
    "with tf.Session() as sess:\n",
    "    sess.run(tf.global_variables_initializer())\n",
    "    saver4 = tf.train.import_meta_graph('C:/Users/Marc Engeler/PycharmProjects/TrafficSigns_P2/lenet-0.meta')\n",
    "    saver4.restore(sess, 'C:/Users/Marc Engeler/PycharmProjects/TrafficSigns_P2/lenet-0')\n",
    "    logits = sess.run(softmax_logits, feed_dict={x:images})\n",
    "    top3 = sess.run(top_k, feed_dict={x:images})\n",
    "    "
   ]
  },
  {
   "cell_type": "code",
   "execution_count": null,
   "metadata": {},
   "outputs": [],
   "source": [
    "names = ['Speed limit (20km/h)',\n",
    "'Speed limit (30km/h)'\n",
    ",'Speed limit (50km/h)'\n",
    ",'Speed limit (60km/h)'\n",
    ",'Speed limit (70km/h)'\n",
    ",'Speed limit (80km/h)'\n",
    ",'End of speed limit (80km/h)'\n",
    ",'Speed limit (100km/h)'\n",
    ",'Speed limit (120km/h)'\n",
    ",'No passing'\n",
    ",'No passing for vehicles over 3.5 metric tons'\n",
    ",'Right-of-way at the next intersection'\n",
    ",'Priority road'\n",
    ",'Yield'\n",
    ",'Stop'\n",
    ",'No vehicles'\n",
    ",'Vehicles over 3.5 metric tons prohibited'\n",
    ",'No entry'\n",
    ",'General caution'\n",
    ",'Dangerous curve to the left'\n",
    ",'Dangerous curve to the right'\n",
    ",'Double curve'\n",
    ",'Bumpy road'\n",
    ",'Slippery road'\n",
    ",'Road narrows on the right'\n",
    ",'Road work'\n",
    ",'Traffic signals'\n",
    ",'Pedestrians'\n",
    ",'Children crossing'\n",
    ",'Bicycles crossing'\n",
    ",'Beware of ice/snow'\n",
    ",'Wild animals crossing'\n",
    ",'End of all speed and passing limits'\n",
    ",'Turn right ahead'\n",
    ",'Turn left ahead'\n",
    ",'Ahead only'\n",
    ",'Go straight or right'\n",
    ",'Go straight or left'\n",
    ",'Keep right'\n",
    ",'Keep left'\n",
    ",'Roundabout mandatory'\n",
    ",'End of no passing'\n",
    ",'End of no passing by vehicles over 3.5 metric tons']"
   ]
  },
  {
   "cell_type": "code",
   "execution_count": null,
   "metadata": {
    "scrolled": false
   },
   "outputs": [],
   "source": [
    "counter = 0\n",
    "for image in images:\n",
    "    indices = top3[1][counter]\n",
    "    prob = top3[0][counter]\n",
    "    for i, index in enumerate(indices):\n",
    "        print(names[index])\n",
    "        print(prob[i])\n",
    "    plt.imshow(image.squeeze(), cmap='gray')\n",
    "    plt.show()\n",
    "    counter = counter + 1"
   ]
  },
  {
   "cell_type": "markdown",
   "metadata": {},
   "source": [
    "> **Note**: Once you have completed all of the code implementations and successfully answered each question above, you may finalize your work by exporting the iPython Notebook as an HTML document. You can do this by using the menu above and navigating to  \\n\",\n",
    "    \"**File -> Download as -> HTML (.html)**. Include the finished document along with this notebook as your submission."
   ]
  },
  {
   "cell_type": "markdown",
   "metadata": {},
   "source": [
    "---\n",
    "\n",
    "## Step 4 (Optional): Visualize the Neural Network's State with Test Images\n",
    "\n",
    " This Section is not required to complete but acts as an additional excersise for understaning the output of a neural network's weights. While neural networks can be a great learning device they are often referred to as a black box. We can understand what the weights of a neural network look like better by plotting their feature maps. After successfully training your neural network you can see what it's feature maps look like by plotting the output of the network's weight layers in response to a test stimuli image. From these plotted feature maps, it's possible to see what characteristics of an image the network finds interesting. For a sign, maybe the inner network feature maps react with high activation to the sign's boundary outline or to the contrast in the sign's painted symbol.\n",
    "\n",
    " Provided for you below is the function code that allows you to get the visualization output of any tensorflow weight layer you want. The inputs to the function should be a stimuli image, one used during training or a new one you provided, and then the tensorflow variable name that represents the layer's state during the training process, for instance if you wanted to see what the [LeNet lab's](https://classroom.udacity.com/nanodegrees/nd013/parts/fbf77062-5703-404e-b60c-95b78b2f3f9e/modules/6df7ae49-c61c-4bb2-a23e-6527e69209ec/lessons/601ae704-1035-4287-8b11-e2c2716217ad/concepts/d4aca031-508f-4e0b-b493-e7b706120f81) feature maps looked like for it's second convolutional layer you could enter conv2 as the tf_activation variable.\n",
    "\n",
    "For an example of what feature map outputs look like, check out NVIDIA's results in their paper [End-to-End Deep Learning for Self-Driving Cars](https://devblogs.nvidia.com/parallelforall/deep-learning-self-driving-cars/) in the section Visualization of internal CNN State. NVIDIA was able to show that their network's inner weights had high activations to road boundary lines by comparing feature maps from an image with a clear path to one without. Try experimenting with a similar test to show that your trained network's weights are looking for interesting features, whether it's looking at differences in feature maps from images with or without a sign, or even what feature maps look like in a trained network vs a completely untrained one on the same sign image.\n",
    "\n",
    "<figure>\n",
    " <img src=\"visualize_cnn.png\" width=\"380\" alt=\"Combined Image\" />\n",
    " <figcaption>\n",
    " <p></p> \n",
    " <p style=\"text-align: center;\"> Your output should look something like this (above)</p> \n",
    " </figcaption>\n",
    "</figure>\n",
    " <p></p> \n"
   ]
  },
  {
   "cell_type": "code",
   "execution_count": null,
   "metadata": {
    "collapsed": true
   },
   "outputs": [],
   "source": [
    "### Visualize your network's feature maps here.\n",
    "### Feel free to use as many code cells as needed.\n",
    "\n",
    "# image_input: the test image being fed into the network to produce the feature maps\n",
    "# tf_activation: should be a tf variable name used during your training procedure that represents the calculated state of a specific weight layer\n",
    "# activation_min/max: can be used to view the activation contrast in more detail, by default matplot sets min and max to the actual min and max values of the output\n",
    "# plt_num: used to plot out multiple different weight feature map sets on the same block, just extend the plt number for each new feature map entry\n",
    "\n",
    "def outputFeatureMap(image_input, tf_activation, activation_min=-1, activation_max=-1 ,plt_num=1):\n",
    "    # Here make sure to preprocess your image_input in a way your network expects\n",
    "    # with size, normalization, ect if needed\n",
    "    # image_input =\n",
    "    # Note: x should be the same name as your network's tensorflow data placeholder variable\n",
    "    # If you get an error tf_activation is not defined it may be having trouble accessing the variable from inside a function\n",
    "    activation = tf_activation.eval(session=sess,feed_dict={x : image_input})\n",
    "    featuremaps = activation.shape[3]\n",
    "    plt.figure(plt_num, figsize=(15,15))\n",
    "    for featuremap in range(featuremaps):\n",
    "        plt.subplot(6,8, featuremap+1) # sets the number of feature maps to show on each row and column\n",
    "        plt.title('FeatureMap ' + str(featuremap)) # displays the feature map number\n",
    "        if activation_min != -1 & activation_max != -1:\n",
    "            plt.imshow(activation[0,:,:, featuremap], interpolation=\"nearest\", vmin =activation_min, vmax=activation_max, cmap=\"gray\")\n",
    "        elif activation_max != -1:\n",
    "            plt.imshow(activation[0,:,:, featuremap], interpolation=\"nearest\", vmax=activation_max, cmap=\"gray\")\n",
    "        elif activation_min !=-1:\n",
    "            plt.imshow(activation[0,:,:, featuremap], interpolation=\"nearest\", vmin=activation_min, cmap=\"gray\")\n",
    "        else:\n",
    "            plt.imshow(activation[0,:,:, featuremap], interpolation=\"nearest\", cmap=\"gray\")"
   ]
  }
 ],
 "metadata": {
  "anaconda-cloud": {},
  "kernelspec": {
   "display_name": "Python 3",
   "language": "python",
   "name": "python3"
  },
  "language_info": {
   "codemirror_mode": {
    "name": "ipython",
    "version": 3
   },
   "file_extension": ".py",
   "mimetype": "text/x-python",
   "name": "python",
   "nbconvert_exporter": "python",
   "pygments_lexer": "ipython3",
   "version": "3.5.2"
  }
 },
 "nbformat": 4,
 "nbformat_minor": 1
}
